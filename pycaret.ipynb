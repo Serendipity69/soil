{
 "cells": [
  {
   "cell_type": "code",
   "execution_count": 1,
   "id": "e0a587c6-ba83-4144-8170-f414c2aa371a",
   "metadata": {
    "id": "xYdCQ8DSN2T5"
   },
   "outputs": [],
   "source": [
    "import os\n",
    "import sys\n",
    "import datetime as dt\n",
    "#import missingno as mno \n",
    "import warnings\n",
    "warnings.filterwarnings(\"ignore\")\n",
    "import logging\n",
    "logging.disable(logging.CRITICAL)"
   ]
  },
  {
   "cell_type": "code",
   "execution_count": 2,
   "id": "ff936634-5952-4c26-bae4-3dcf68ee29d6",
   "metadata": {},
   "outputs": [],
   "source": [
    "import matplotlib.pyplot as plt\n",
    "import numpy as np\n",
    "import pandas as pd\n",
    "import seaborn as sns\n",
    "import plotly.express as px\n",
    "from statsmodels.tsa.stattools import adfuller, kpss, grangercausalitytests\n",
    "from statsmodels.tsa.api import VAR\n",
    "from sklearn.model_selection import train_test_split\n",
    "from sklearn.preprocessing import StandardScaler\n",
    "from sklearn.decomposition import PCA\n",
    "from sklearn.pipeline import Pipeline\n",
    "from numpy import log"
   ]
  },
  {
   "cell_type": "code",
   "execution_count": 3,
   "id": "4b7c0c45-940e-4586-a0e0-796b2f9ed8b3",
   "metadata": {},
   "outputs": [],
   "source": [
    "df= pd.read_csv(\"soil.csv\")\n",
    "df.set_index(['date'],inplace= True)\n",
    "df= df.rename(columns= {\"segment1(10-30cm)\":\"moisture\"})"
   ]
  },
  {
   "cell_type": "code",
   "execution_count": 4,
   "id": "b8d4d389",
   "metadata": {},
   "outputs": [
    {
     "name": "stdout",
     "output_type": "stream",
     "text": [
      "<class 'pandas.core.frame.DataFrame'>\n",
      "Index: 23267 entries, 2022-06-01 00:08:00+00:00 to 2022-10-31 23:58:00+00:00\n",
      "Data columns (total 21 columns):\n",
      " #   Column                                   Non-Null Count  Dtype  \n",
      "---  ------                                   --------------  -----  \n",
      " 0   Magna_6 Wind Direction                   23267 non-null  float64\n",
      " 1   Magna_6 Wind Speed (m/s)                 23267 non-null  float64\n",
      " 2   Magna_6 Meteo Ambient Temperature (C)    23267 non-null  float64\n",
      " 3   Magna_6 Meteo Air Pressure (hpa)         23267 non-null  float64\n",
      " 4   Magna_6 Meteo Relative Humidity          23267 non-null  float64\n",
      " 5   Magna_6 Meteo Dew Point Temperature (C)  23267 non-null  float64\n",
      " 6   Power Supply (V)                         23267 non-null  float64\n",
      " 7   Magna_6 Water EC muS/cm                  23267 non-null  float64\n",
      " 8   Magna_6 Water Level Above Sensor mm      23267 non-null  float64\n",
      " 9   moisture                                 23267 non-null  float64\n",
      " 10  segment1(EC)                             23267 non-null  float64\n",
      " 11  Magna_6 PH                               23267 non-null  float64\n",
      " 12  Magna_6 ORP_mV                           23267 non-null  float64\n",
      " 13  Magna_6 pH_Sensor_Temperature_C          23267 non-null  float64\n",
      " 14  Magna_6 Precipitation_24hr_mm            23267 non-null  float64\n",
      " 15  Magna_6 Cumulative Precipitation_mm      23267 non-null  float64\n",
      " 16  Magna_6 CTD_Temperature_C                23267 non-null  float64\n",
      " 17  CTD_Pressure_BAR                         23267 non-null  float64\n",
      " 18  CTD_Conductivity__mS                     23267 non-null  float64\n",
      " 19  Metres above MSL                         23267 non-null  float64\n",
      " 20  TOW _MH2O                                23267 non-null  float64\n",
      "dtypes: float64(21)\n",
      "memory usage: 3.9+ MB\n"
     ]
    }
   ],
   "source": [
    "df.info()"
   ]
  },
  {
   "cell_type": "code",
   "execution_count": 5,
   "id": "e72cd2ee",
   "metadata": {},
   "outputs": [
    {
     "data": {
      "text/html": [
       "<div>\n",
       "<style scoped>\n",
       "    .dataframe tbody tr th:only-of-type {\n",
       "        vertical-align: middle;\n",
       "    }\n",
       "\n",
       "    .dataframe tbody tr th {\n",
       "        vertical-align: top;\n",
       "    }\n",
       "\n",
       "    .dataframe thead th {\n",
       "        text-align: right;\n",
       "    }\n",
       "</style>\n",
       "<table border=\"1\" class=\"dataframe\">\n",
       "  <thead>\n",
       "    <tr style=\"text-align: right;\">\n",
       "      <th></th>\n",
       "      <th>Magna_6 Wind Direction</th>\n",
       "      <th>Magna_6 Wind Speed (m/s)</th>\n",
       "      <th>Magna_6 Meteo Ambient Temperature (C)</th>\n",
       "      <th>Magna_6 Meteo Air Pressure (hpa)</th>\n",
       "      <th>Magna_6 Meteo Relative Humidity</th>\n",
       "      <th>Magna_6 Meteo Dew Point Temperature (C)</th>\n",
       "      <th>Power Supply (V)</th>\n",
       "      <th>Magna_6 Water EC muS/cm</th>\n",
       "      <th>Magna_6 Water Level Above Sensor mm</th>\n",
       "      <th>moisture</th>\n",
       "      <th>...</th>\n",
       "      <th>Magna_6 PH</th>\n",
       "      <th>Magna_6 ORP_mV</th>\n",
       "      <th>Magna_6 pH_Sensor_Temperature_C</th>\n",
       "      <th>Magna_6 Precipitation_24hr_mm</th>\n",
       "      <th>Magna_6 Cumulative Precipitation_mm</th>\n",
       "      <th>Magna_6 CTD_Temperature_C</th>\n",
       "      <th>CTD_Pressure_BAR</th>\n",
       "      <th>CTD_Conductivity__mS</th>\n",
       "      <th>Metres above MSL</th>\n",
       "      <th>TOW _MH2O</th>\n",
       "    </tr>\n",
       "    <tr>\n",
       "      <th>date</th>\n",
       "      <th></th>\n",
       "      <th></th>\n",
       "      <th></th>\n",
       "      <th></th>\n",
       "      <th></th>\n",
       "      <th></th>\n",
       "      <th></th>\n",
       "      <th></th>\n",
       "      <th></th>\n",
       "      <th></th>\n",
       "      <th></th>\n",
       "      <th></th>\n",
       "      <th></th>\n",
       "      <th></th>\n",
       "      <th></th>\n",
       "      <th></th>\n",
       "      <th></th>\n",
       "      <th></th>\n",
       "      <th></th>\n",
       "      <th></th>\n",
       "      <th></th>\n",
       "    </tr>\n",
       "  </thead>\n",
       "  <tbody>\n",
       "  </tbody>\n",
       "</table>\n",
       "<p>0 rows × 21 columns</p>\n",
       "</div>"
      ],
      "text/plain": [
       "Empty DataFrame\n",
       "Columns: [Magna_6 Wind Direction, Magna_6 Wind Speed (m/s), Magna_6 Meteo Ambient Temperature (C), Magna_6 Meteo Air Pressure (hpa), Magna_6 Meteo Relative Humidity, Magna_6 Meteo Dew Point Temperature (C), Power Supply (V), Magna_6 Water EC muS/cm, Magna_6 Water Level Above Sensor mm, moisture, segment1(EC), Magna_6 PH, Magna_6 ORP_mV, Magna_6 pH_Sensor_Temperature_C, Magna_6 Precipitation_24hr_mm, Magna_6 Cumulative Precipitation_mm, Magna_6 CTD_Temperature_C, CTD_Pressure_BAR, CTD_Conductivity__mS, Metres above MSL, TOW _MH2O]\n",
       "Index: []\n",
       "\n",
       "[0 rows x 21 columns]"
      ]
     },
     "execution_count": 5,
     "metadata": {},
     "output_type": "execute_result"
    }
   ],
   "source": [
    "df.loc[df.index.duplicated(),: ]"
   ]
  },
  {
   "cell_type": "code",
   "execution_count": null,
   "id": "ff207645",
   "metadata": {},
   "outputs": [],
   "source": [
    "#%pip install xgboost"
   ]
  },
  {
   "cell_type": "markdown",
   "id": "489500d9-d753-4a69-920b-57121dc15ede",
   "metadata": {
    "tags": []
   },
   "source": [
    "Pycaret TS Model\n",
    "--"
   ]
  },
  {
   "cell_type": "code",
   "execution_count": 6,
   "id": "29d669e5-61c4-4223-aaa1-9409cd3bf6d1",
   "metadata": {},
   "outputs": [
    {
     "name": "stdout",
     "output_type": "stream",
     "text": [
      "\n",
      "System:\n",
      "    python: 3.8.15 (default, Nov 24 2022, 09:04:07)  [Clang 14.0.6 ]\n",
      "executable: /Users/sage/opt/anaconda3/envs/sage/bin/python\n",
      "   machine: macOS-10.16-x86_64-i386-64bit\n",
      "\n",
      "Python dependencies:\n",
      "          pip: 22.3.1\n",
      "   setuptools: 65.5.0\n",
      "      pycaret: 3.0.0\n",
      "      sklearn: 1.2.0\n",
      "       sktime: 0.10.1\n",
      "  statsmodels: 0.13.5\n",
      "        numpy: 1.21.6\n",
      "        scipy: 1.7.3\n",
      "       pandas: 1.4.4\n",
      "   matplotlib: 3.6.2\n",
      "       plotly: 5.11.0\n",
      "       joblib: 1.2.0\n",
      "        numba: 0.55.2\n",
      "       mlflow: 2.0.1\n",
      "     lightgbm: 3.3.3\n",
      "      xgboost: 1.7.2\n",
      "     pmdarima: 1.8.5\n",
      "        tbats: 1.1.2\n",
      "      prophet: 1.1.1\n",
      "      tsfresh: 0.20.0\n"
     ]
    }
   ],
   "source": [
    "def what_is_installed():\n",
    "    import pycaret\n",
    "    from pycaret import show_versions\n",
    "    show_versions()\n",
    "\n",
    "try:\n",
    "    what_is_installed()\n",
    "except:\n",
    "  #pip install prophet\n",
    "   # !pip install pycaret-ts-alpha\n",
    "    what_is_installed()"
   ]
  },
  {
   "cell_type": "code",
   "execution_count": 7,
   "id": "9a451aa9-ffd0-4cef-a033-2edf0fe41406",
   "metadata": {},
   "outputs": [
    {
     "ename": "ImportError",
     "evalue": "cannot import name '_pprint' from 'sklearn.base' (/Users/sage/opt/anaconda3/envs/sage/lib/python3.8/site-packages/sklearn/base.py)",
     "output_type": "error",
     "traceback": [
      "\u001b[0;31m---------------------------------------------------------------------------\u001b[0m",
      "\u001b[0;31mImportError\u001b[0m                               Traceback (most recent call last)",
      "Cell \u001b[0;32mIn[7], line 1\u001b[0m\n\u001b[0;32m----> 1\u001b[0m \u001b[38;5;28;01mfrom\u001b[39;00m \u001b[38;5;21;01mpycaret\u001b[39;00m\u001b[38;5;21;01m.\u001b[39;00m\u001b[38;5;21;01mtime_series\u001b[39;00m \u001b[38;5;28;01mimport\u001b[39;00m TSForecastingExperiment\n\u001b[1;32m      2\u001b[0m \u001b[38;5;66;03m# Change renderer appropriately based on where the notebook is being run ----\u001b[39;00m\n\u001b[1;32m      3\u001b[0m \u001b[38;5;66;03m# Refer to plotly for available renderers.\u001b[39;00m\n\u001b[1;32m      4\u001b[0m global_plot_settings \u001b[38;5;241m=\u001b[39m {\u001b[38;5;124m\"\u001b[39m\u001b[38;5;124mrenderer\u001b[39m\u001b[38;5;124m\"\u001b[39m: \u001b[38;5;124m\"\u001b[39m\u001b[38;5;124mjupyterlab\u001b[39m\u001b[38;5;124m\"\u001b[39m,\n\u001b[1;32m      5\u001b[0m                         \u001b[38;5;124m\"\u001b[39m\u001b[38;5;124mhoverinfo\u001b[39m\u001b[38;5;124m\"\u001b[39m: \u001b[38;5;124m\"\u001b[39m\u001b[38;5;124mtext\u001b[39m\u001b[38;5;124m\"\u001b[39m}\n",
      "File \u001b[0;32m~/opt/anaconda3/envs/sage/lib/python3.8/site-packages/pycaret/time_series/__init__.py:1\u001b[0m\n\u001b[0;32m----> 1\u001b[0m \u001b[39mfrom\u001b[39;00m \u001b[39mpycaret\u001b[39;00m\u001b[39m.\u001b[39;00m\u001b[39mtime_series\u001b[39;00m\u001b[39m.\u001b[39;00m\u001b[39mforecasting\u001b[39;00m\u001b[39m.\u001b[39;00m\u001b[39moop\u001b[39;00m \u001b[39mimport\u001b[39;00m TSForecastingExperiment\n\u001b[1;32m      2\u001b[0m \u001b[39mfrom\u001b[39;00m \u001b[39mpycaret\u001b[39;00m\u001b[39m.\u001b[39;00m\u001b[39mtime_series\u001b[39;00m\u001b[39m.\u001b[39;00m\u001b[39mforecasting\u001b[39;00m\u001b[39m.\u001b[39;00m\u001b[39mfunctional\u001b[39;00m \u001b[39mimport\u001b[39;00m (\n\u001b[1;32m      3\u001b[0m     setup,\n\u001b[1;32m      4\u001b[0m     create_model,\n\u001b[0;32m   (...)\u001b[0m\n\u001b[1;32m     25\u001b[0m     check_stats,\n\u001b[1;32m     26\u001b[0m )\n\u001b[1;32m     28\u001b[0m __all__ \u001b[39m=\u001b[39m [\n\u001b[1;32m     29\u001b[0m     \u001b[39m\"\u001b[39m\u001b[39mTSForecastingExperiment\u001b[39m\u001b[39m\"\u001b[39m,\n\u001b[1;32m     30\u001b[0m     \u001b[39m\"\u001b[39m\u001b[39msetup\u001b[39m\u001b[39m\"\u001b[39m,\n\u001b[0;32m   (...)\u001b[0m\n\u001b[1;32m     52\u001b[0m     \u001b[39m\"\u001b[39m\u001b[39mcheck_stats\u001b[39m\u001b[39m\"\u001b[39m,\n\u001b[1;32m     53\u001b[0m ]\n",
      "File \u001b[0;32m~/opt/anaconda3/envs/sage/lib/python3.8/site-packages/pycaret/time_series/forecasting/oop.py:16\u001b[0m\n\u001b[1;32m     14\u001b[0m \u001b[39mfrom\u001b[39;00m \u001b[39msklearn\u001b[39;00m\u001b[39m.\u001b[39;00m\u001b[39mbase\u001b[39;00m \u001b[39mimport\u001b[39;00m clone\n\u001b[1;32m     15\u001b[0m \u001b[39mfrom\u001b[39;00m \u001b[39msktime\u001b[39;00m\u001b[39m.\u001b[39;00m\u001b[39mforecasting\u001b[39;00m\u001b[39m.\u001b[39;00m\u001b[39mbase\u001b[39;00m \u001b[39mimport\u001b[39;00m ForecastingHorizon\n\u001b[0;32m---> 16\u001b[0m \u001b[39mfrom\u001b[39;00m \u001b[39msktime\u001b[39;00m\u001b[39m.\u001b[39;00m\u001b[39mforecasting\u001b[39;00m\u001b[39m.\u001b[39;00m\u001b[39mmodel_selection\u001b[39;00m \u001b[39mimport\u001b[39;00m (\n\u001b[1;32m     17\u001b[0m     temporal_train_test_split,\n\u001b[1;32m     18\u001b[0m     ExpandingWindowSplitter,\n\u001b[1;32m     19\u001b[0m     SlidingWindowSplitter,\n\u001b[1;32m     20\u001b[0m )\n\u001b[1;32m     22\u001b[0m \u001b[39mfrom\u001b[39;00m \u001b[39msktime\u001b[39;00m\u001b[39m.\u001b[39;00m\u001b[39mforecasting\u001b[39;00m\u001b[39m.\u001b[39;00m\u001b[39mbase\u001b[39;00m \u001b[39mimport\u001b[39;00m BaseForecaster\n\u001b[1;32m     24\u001b[0m \u001b[39m# from sktime.forecasting.compose import ForecastingPipeline\u001b[39;00m\n",
      "File \u001b[0;32m~/opt/anaconda3/envs/sage/lib/python3.8/site-packages/sktime/forecasting/model_selection/__init__.py:17\u001b[0m\n\u001b[1;32m      6\u001b[0m __author__ \u001b[39m=\u001b[39m [\u001b[39m\"\u001b[39m\u001b[39mMarkus Löning\u001b[39m\u001b[39m\"\u001b[39m, \u001b[39m\"\u001b[39m\u001b[39mKutay Koralturk\u001b[39m\u001b[39m\"\u001b[39m]\n\u001b[1;32m      7\u001b[0m __all__ \u001b[39m=\u001b[39m [\n\u001b[1;32m      8\u001b[0m     \u001b[39m\"\u001b[39m\u001b[39mCutoffSplitter\u001b[39m\u001b[39m\"\u001b[39m,\n\u001b[1;32m      9\u001b[0m     \u001b[39m\"\u001b[39m\u001b[39mSingleWindowSplitter\u001b[39m\u001b[39m\"\u001b[39m,\n\u001b[0;32m   (...)\u001b[0m\n\u001b[1;32m     14\u001b[0m     \u001b[39m\"\u001b[39m\u001b[39mForecastingRandomizedSearchCV\u001b[39m\u001b[39m\"\u001b[39m,\n\u001b[1;32m     15\u001b[0m ]\n\u001b[0;32m---> 17\u001b[0m \u001b[39mfrom\u001b[39;00m \u001b[39msktime\u001b[39;00m\u001b[39m.\u001b[39;00m\u001b[39mforecasting\u001b[39;00m\u001b[39m.\u001b[39;00m\u001b[39mmodel_selection\u001b[39;00m\u001b[39m.\u001b[39;00m\u001b[39m_split\u001b[39;00m \u001b[39mimport\u001b[39;00m ExpandingWindowSplitter\n\u001b[1;32m     18\u001b[0m \u001b[39mfrom\u001b[39;00m \u001b[39msktime\u001b[39;00m\u001b[39m.\u001b[39;00m\u001b[39mforecasting\u001b[39;00m\u001b[39m.\u001b[39;00m\u001b[39mmodel_selection\u001b[39;00m\u001b[39m.\u001b[39;00m\u001b[39m_split\u001b[39;00m \u001b[39mimport\u001b[39;00m CutoffSplitter\n\u001b[1;32m     19\u001b[0m \u001b[39mfrom\u001b[39;00m \u001b[39msktime\u001b[39;00m\u001b[39m.\u001b[39;00m\u001b[39mforecasting\u001b[39;00m\u001b[39m.\u001b[39;00m\u001b[39mmodel_selection\u001b[39;00m\u001b[39m.\u001b[39;00m\u001b[39m_split\u001b[39;00m \u001b[39mimport\u001b[39;00m SingleWindowSplitter\n",
      "File \u001b[0;32m~/opt/anaconda3/envs/sage/lib/python3.8/site-packages/sktime/forecasting/model_selection/_split.py:23\u001b[0m\n\u001b[1;32m     21\u001b[0m \u001b[39mimport\u001b[39;00m \u001b[39mnumpy\u001b[39;00m \u001b[39mas\u001b[39;00m \u001b[39mnp\u001b[39;00m\n\u001b[1;32m     22\u001b[0m \u001b[39mimport\u001b[39;00m \u001b[39mpandas\u001b[39;00m \u001b[39mas\u001b[39;00m \u001b[39mpd\u001b[39;00m\n\u001b[0;32m---> 23\u001b[0m \u001b[39mfrom\u001b[39;00m \u001b[39msklearn\u001b[39;00m\u001b[39m.\u001b[39;00m\u001b[39mbase\u001b[39;00m \u001b[39mimport\u001b[39;00m _pprint\n\u001b[1;32m     24\u001b[0m \u001b[39mfrom\u001b[39;00m \u001b[39msklearn\u001b[39;00m\u001b[39m.\u001b[39;00m\u001b[39mmodel_selection\u001b[39;00m \u001b[39mimport\u001b[39;00m train_test_split \u001b[39mas\u001b[39;00m _train_test_split\n\u001b[1;32m     26\u001b[0m \u001b[39mfrom\u001b[39;00m \u001b[39msktime\u001b[39;00m\u001b[39m.\u001b[39;00m\u001b[39mforecasting\u001b[39;00m\u001b[39m.\u001b[39;00m\u001b[39mbase\u001b[39;00m \u001b[39mimport\u001b[39;00m ForecastingHorizon\n",
      "\u001b[0;31mImportError\u001b[0m: cannot import name '_pprint' from 'sklearn.base' (/Users/sage/opt/anaconda3/envs/sage/lib/python3.8/site-packages/sklearn/base.py)"
     ]
    }
   ],
   "source": [
    "from pycaret.time_series import TSForecastingExperiment\n",
    "# Change renderer appropriately based on where the notebook is being run ----\n",
    "# Refer to plotly for available renderers.\n",
    "global_plot_settings = {\"renderer\": \"jupyterlab\",\n",
    "                        \"hoverinfo\": \"text\"}\n",
    "\n",
    "# init environment\n",
    "\n",
    "exp = TSForecastingExperiment()\n",
    "target = 'moisture'\n",
    "data_for_modeling = df[df.index < '2022-09-21'].reset_index(drop = True)\n",
    "future_df = df[df.index >= '2022-09-21'].reset_index(drop = True)\n",
    "future_exog = future_df.drop(columns=target)\n",
    "\n",
    "exp.setup(data = data_for_modeling,\n",
    "          target= target,\n",
    "          seasonal_period=12,\n",
    "          fh=2000,\n",
    "          fig_kwargs=global_plot_settings,\n",
    "          session_id=140)"
   ]
  },
  {
   "cell_type": "code",
   "execution_count": null,
   "id": "fd11113e-286f-43a3-8df1-b1d22519b6cb",
   "metadata": {},
   "outputs": [],
   "source": []
  },
  {
   "cell_type": "code",
   "execution_count": null,
   "id": "c4afa02d-169a-4510-9b42-65524faceff0",
   "metadata": {},
   "outputs": [],
   "source": [
    "# Additional plots provided by PyCaret to help understand what is being done.\n",
    "exp.plot_model(plot=\"ts\")"
   ]
  },
  {
   "cell_type": "raw",
   "id": "1e9c9bda-df8e-4d52-bd1f-2260bb58c679",
   "metadata": {},
   "source": [
    "exp.plot_model(plot=\"cv\")"
   ]
  },
  {
   "cell_type": "code",
   "execution_count": null,
   "id": "c5a0ede4-b3d9-490a-b724-92eaca022f8a",
   "metadata": {},
   "outputs": [],
   "source": [
    "#Model training and selection\n",
    "print(\"Model training and selection\")\n",
    "#exclude={'arima','auto_arima'}\n",
    "#best_model = exp.compare_models(sort =\"MAE\", exclude=exclude)\n",
    "best_model= exp.create_model('lr_cds_dt')"
   ]
  },
  {
   "cell_type": "code",
   "execution_count": null,
   "id": "adddfd8e-f8c1-4835-b892-b7cd1f6999db",
   "metadata": {},
   "outputs": [],
   "source": [
    "exp.plot_model(best_model,\n",
    "               plot = 'forecast')"
   ]
  },
  {
   "cell_type": "code",
   "execution_count": null,
   "id": "634b7acc-298c-4e3d-ac82-067bf0fa7ae6",
   "metadata": {},
   "outputs": [],
   "source": [
    "# Diagnostics plot\n",
    "exp.plot_model(plot = 'diagnostics')"
   ]
  },
  {
   "cell_type": "code",
   "execution_count": null,
   "id": "4b0a8490-3f76-48e7-ad8e-48ec2039fd92",
   "metadata": {},
   "outputs": [],
   "source": [
    "#tune model\n",
    "tuned= exp.tune_model(best_model,fold=5)\n"
   ]
  },
  {
   "cell_type": "code",
   "execution_count": null,
   "id": "e1b10fb6-beea-4c7a-86fa-1f22a19d3ede",
   "metadata": {},
   "outputs": [],
   "source": [
    "# forecast in unknown future\n",
    "exp.plot_model(tuned,\n",
    "               plot = 'forecast',\n",
    "               data_kwargs = {'fh' : 2000})"
   ]
  },
  {
   "cell_type": "code",
   "execution_count": null,
   "id": "417e3ea4-797c-4316-81d8-95ae05537656",
   "metadata": {},
   "outputs": [],
   "source": [
    "#from sktime.forecasting.base import *\n",
    "# Decomposition plot\n",
    "exp.plot_model(tuned, plot=\"decomp\")\n",
    "exp.plot_model(tuned, plot=\"decomp_stl\")"
   ]
  },
  {
   "cell_type": "code",
   "execution_count": null,
   "id": "7e1ca98b-9a4e-4e4a-a30a-5133835cf997",
   "metadata": {},
   "outputs": [],
   "source": [
    "# finalize model\n",
    "final_best =exp.finalize_model(tuned)\n",
    "print(final_best)"
   ]
  },
  {
   "cell_type": "code",
   "execution_count": null,
   "id": "efc0585b",
   "metadata": {},
   "outputs": [],
   "source": [
    "future_exog.count\n"
   ]
  },
  {
   "cell_type": "code",
   "execution_count": null,
   "id": "60ab8757-5e82-49ff-8cb5-e705be345bce",
   "metadata": {},
   "outputs": [],
   "source": [
    "# generate predictions\n",
    "preds= exp.predict_model(final_best,fh=5892,X=future_exog)\n",
    "print(preds)"
   ]
  },
  {
   "cell_type": "code",
   "execution_count": null,
   "id": "23115687-a88b-4b45-923f-617f94b4d9ae",
   "metadata": {},
   "outputs": [],
   "source": [
    "y_train= data_for_modeling['moisture']\n",
    "#y_train=exp.get_config(\"y_train\")\n",
    "print(y_train)"
   ]
  },
  {
   "cell_type": "code",
   "execution_count": null,
   "id": "30c3b3ff-5186-4a95-9574-3a1c82ba597f",
   "metadata": {},
   "outputs": [],
   "source": [
    "\n",
    "data=df['moisture'].reset_index(drop=True)\n",
    "from sktime.utils.plotting import plot_series\n",
    "plot_series(data,\n",
    "            y_train,\n",
    "            preds,\n",
    "            labels=['All', 'Train', 'Test Predictions'])\n",
    "plt.show()"
   ]
  },
  {
   "cell_type": "code",
   "execution_count": null,
   "id": "6a805b9b-dc79-4877-8f3e-20ec727b2116",
   "metadata": {},
   "outputs": [],
   "source": [
    "# save the model\n",
    "exp.save_model(final_best, 'my_best_model')"
   ]
  },
  {
   "cell_type": "markdown",
   "id": "6d962993-0aed-426d-ab69-d224b6b09a4e",
   "metadata": {},
   "source": [
    "BORUTA\n",
    "--"
   ]
  },
  {
   "cell_type": "code",
   "execution_count": null,
   "id": "d59fae2f-e7e3-4c2b-a857-9a758ac5bb65",
   "metadata": {},
   "outputs": [],
   "source": [
    "#Installing Boruta\n",
    "#!pip install Boruta\n",
    "# Boruta for feature selection\n",
    "#!pip install boruta_py\n",
    "from sklearn.ensemble import RandomForestRegressor\n",
    "from boruta import  BorutaPy\n",
    "from sklearn.metrics import accuracy_score "
   ]
  },
  {
   "cell_type": "code",
   "execution_count": null,
   "id": "3c3cd2c4-ffb2-4c28-a306-dd912fe4c5af",
   "metadata": {},
   "outputs": [],
   "source": [
    "X_new = df.drop(columns =['moisture']).reset_index(drop=True)\n",
    "X_new"
   ]
  },
  {
   "cell_type": "code",
   "execution_count": null,
   "id": "de8193f3-c18a-4f33-993f-59e435714191",
   "metadata": {},
   "outputs": [],
   "source": [
    "y_new = df['moisture'].reset_index(drop=True)\n",
    "y_new"
   ]
  },
  {
   "cell_type": "code",
   "execution_count": null,
   "id": "10fa3f69-ccdf-4ac2-9537-a595ef77be6c",
   "metadata": {},
   "outputs": [],
   "source": [
    "#Initializing the random forest model\n",
    "model = RandomForestRegressor(n_estimators = 100,\n",
    "                              max_depth = 5,\n",
    "                              random_state = 42)\n",
    "# let's initialize Boruta\n",
    "feat_selector = BorutaPy(\n",
    "    verbose=2,\n",
    "    estimator=model,\n",
    "    n_estimators='auto',\n",
    "    max_iter=10  # number of iterations to perform\n",
    ")"
   ]
  },
  {
   "cell_type": "code",
   "execution_count": null,
   "id": "ba95b0a5-a397-422b-ada0-fa2666bc18d6",
   "metadata": {},
   "outputs": [],
   "source": [
    "#Training the boruta, X and Y mus be numpy arrays\n",
    "import numpy as np\n",
    "feat_selector.fit(np.array(X_new), np.array(y_new))"
   ]
  },
  {
   "cell_type": "code",
   "execution_count": null,
   "id": "d80fe9f0-cb9f-4830-8cad-6844c0b98caf",
   "metadata": {},
   "outputs": [],
   "source": [
    "accepted = X_new.columns[feat_selector.support_].to_list()\n",
    "print('Accepted features:', accepted)"
   ]
  },
  {
   "cell_type": "code",
   "execution_count": null,
   "id": "4975afbc-5406-463b-8500-b2b8f98241d9",
   "metadata": {},
   "outputs": [],
   "source": [
    "undecided = X_new.columns[feat_selector.support_weak_].to_list()\n",
    "print('Undecided features', undecided)"
   ]
  },
  {
   "cell_type": "code",
   "execution_count": null,
   "id": "f43fa578-1af8-4bba-905b-27ee18a42d9a",
   "metadata": {},
   "outputs": [],
   "source": [
    "selected_features = accepted + undecided # include undecided for safe measure\n",
    "df_new=df.copy()\n",
    "df_boruta = df_new.loc[:,selected_features]\n",
    "df_boruta['moisture']= df['moisture']\n",
    "df_boruta"
   ]
  },
  {
   "cell_type": "code",
   "execution_count": null,
   "id": "440db2c1-bdf5-4842-8996-dd5fc496074c",
   "metadata": {},
   "outputs": [],
   "source": [
    "corr=df_boruta.copy().corr()\n",
    "corr"
   ]
  },
  {
   "cell_type": "code",
   "execution_count": null,
   "id": "29175c1c-99ac-4c72-ba2c-67fabf0b4243",
   "metadata": {},
   "outputs": [],
   "source": [
    "import seaborn as sns\n",
    "sns.set(rc = {'figure.figsize':(20, 12)})\n",
    "sns.heatmap(corr, annot=True)\n",
    "plt.show()"
   ]
  },
  {
   "cell_type": "code",
   "execution_count": null,
   "id": "7b14786c-d8f8-4f89-ae0a-43eb52785dea",
   "metadata": {},
   "outputs": [],
   "source": [
    "\n",
    "highly_corr = {}\n",
    "for columns in corr.columns:\n",
    "  highly_corr[columns] = list(corr[columns][corr[columns]> 0.99].index)\n",
    "highly_corr\n"
   ]
  },
  {
   "cell_type": "code",
   "execution_count": null,
   "id": "883bf5bc-d780-4d57-8f3b-fe8203250460",
   "metadata": {},
   "outputs": [],
   "source": [
    "upper_tri = corr.where(np.triu(np.ones(corr.shape),k=1).astype(np.bool))\n",
    "upper_tri.info()"
   ]
  },
  {
   "cell_type": "code",
   "execution_count": null,
   "id": "1223b28a-d907-4cf6-904c-8b3bdfdce458",
   "metadata": {},
   "outputs": [],
   "source": [
    "to_drop = [column for column in upper_tri.columns if any(upper_tri[column] > 0.9)]\n",
    "to_drop"
   ]
  },
  {
   "cell_type": "code",
   "execution_count": null,
   "id": "71bba70b-85dd-4acf-a1ce-7852e1cc3a5d",
   "metadata": {},
   "outputs": [],
   "source": [
    "df_boruta2 = df_boruta.drop(df_boruta[to_drop], axis=1)\n",
    "df_boruta2['moisture']= df['moisture']\n",
    "df_boruta2.info()"
   ]
  },
  {
   "cell_type": "code",
   "execution_count": null,
   "id": "7e27c39e-3327-42e4-bb75-23622ba63047",
   "metadata": {},
   "outputs": [],
   "source": [
    "from pycaret.time_series import TSForecastingExperiment\n",
    "\n",
    "# Change renderer appropriately based on where the notebook is being run ----\n",
    "# Refer to plotly for available renderers.\n",
    "global_plot_settings = {\"renderer\": \"jupytelab\",\n",
    "                        \"hoverinfo\": \"text\"}\n",
    "# init environment\n",
    "from pycaret.regression import *\n",
    "exp_b = TSForecastingExperiment()\n",
    "target='moisture'\n",
    "data_for_boruta = df_boruta2[df_boruta2.index < '2022-09-21'].reset_index(drop = True)\n",
    "future_boruta = df_boruta2[df_boruta2.index >= '2022-09-21'].reset_index(drop = True)\n",
    "future_exog_boruta = future_boruta.drop(columns=target)\n",
    "\n",
    "exp_b.setup(data = data_for_boruta,\n",
    "          target= target,\n",
    "          seasonal_period=12,\n",
    "          fh=2000,\n",
    "          fig_kwargs=global_plot_settings,\n",
    "          session_id=143)"
   ]
  },
  {
   "cell_type": "code",
   "execution_count": null,
   "id": "06b75fc2-50f3-4d84-9311-a9c34f063a2e",
   "metadata": {},
   "outputs": [],
   "source": [
    "exp_b.models()"
   ]
  },
  {
   "cell_type": "code",
   "execution_count": null,
   "id": "eeb355ec-a24a-4036-bd9b-da85afb74e4e",
   "metadata": {},
   "outputs": [],
   "source": [
    "#compare models with boruta data\n",
    "#best_boruta= exp_b.compare_models(sort =\"MAE\", exclude={'arima','auto_arima','lightgbm_cds_dt'})# remove the slow models and the ones causing the kernel to crash\n",
    "best_boruta= exp_b.create_model('omp_cds_dt')"
   ]
  },
  {
   "cell_type": "code",
   "execution_count": null,
   "id": "852cffab-4a01-464a-b78f-2c55c8d17974",
   "metadata": {},
   "outputs": [],
   "source": [
    "# Additional plots provided by PyCaret to help understand what is being done.\n",
    "exp_b.plot_model(plot=\"train_test_split\")"
   ]
  },
  {
   "cell_type": "code",
   "execution_count": null,
   "id": "3877ce40-65d8-4e5d-aa25-b69a1fd55d94",
   "metadata": {},
   "outputs": [],
   "source": [
    "#tune model\n",
    "tuned_boruta= exp_b.tune_model(best_model,fold=5)\n"
   ]
  },
  {
   "cell_type": "code",
   "execution_count": null,
   "id": "fb2cf11f-19c4-46e8-a7b3-8f53afb40a7e",
   "metadata": {},
   "outputs": [],
   "source": [
    "# forecast in unknown future\n",
    "exp_b.plot_model(tuned_boruta,\n",
    "               plot = 'forecast',\n",
    "               data_kwargs = {'fh' : 2000})"
   ]
  },
  {
   "cell_type": "code",
   "execution_count": null,
   "id": "c48e6661-2bad-46e3-a8f5-94795ff3deff",
   "metadata": {},
   "outputs": [],
   "source": [
    "# Diagnostics plot\n",
    "exp_b.plot_model(tuned_boruta, plot = 'diagnostics')"
   ]
  },
  {
   "cell_type": "code",
   "execution_count": null,
   "id": "27c3f169-8cb9-4bd9-941f-36f52812d975",
   "metadata": {},
   "outputs": [],
   "source": [
    "# finalize model\n",
    "final_boruta = exp_b.finalize_model(tuned_boruta)\n",
    "print(final_boruta)"
   ]
  },
  {
   "cell_type": "code",
   "execution_count": null,
   "id": "b8caca55-799b-45d8-baf9-0d8f39acfe04",
   "metadata": {},
   "outputs": [],
   "source": [
    "# generate predictions\n",
    "preds_boruta= exp_b.predict_model(final_boruta,fh=5892,X=future_exog_boruta)\n",
    "print(preds_boruta)"
   ]
  },
  {
   "cell_type": "code",
   "execution_count": null,
   "id": "0d618ac6-0729-4db8-80a2-39b75c28c9c6",
   "metadata": {},
   "outputs": [],
   "source": [
    "y_train= data_for_boruta['moisture']\n",
    "data=df_boruta2['moisture'].reset_index(drop=True)\n",
    "from sktime.utils.plotting import plot_series\n",
    "plot_series(data,\n",
    "            y_train,\n",
    "            preds,\n",
    "            labels=['All', 'Train', 'Test Predictions'])\n",
    "plt.grid()"
   ]
  },
  {
   "cell_type": "code",
   "execution_count": null,
   "id": "b336ec07-a146-4826-b628-529d3236017e",
   "metadata": {},
   "outputs": [],
   "source": [
    "# save the model\n",
    "exp_b.save_model(final_boruta, 'my_boruta_model')"
   ]
  },
  {
   "cell_type": "code",
   "execution_count": null,
   "id": "0811d77f-54e1-42ec-bcb0-7365c224a90a",
   "metadata": {},
   "outputs": [],
   "source": [
    "normal=preds.reset_index()\n",
    "normal"
   ]
  },
  {
   "cell_type": "code",
   "execution_count": null,
   "id": "074175b3-5644-47de-963c-d7c589e7c3ea",
   "metadata": {},
   "outputs": [],
   "source": [
    "boruta=preds_boruta.reset_index()\n",
    "boruta= boruta.rename(columns= {\"y_pred\":\"boruta\"})"
   ]
  },
  {
   "cell_type": "code",
   "execution_count": null,
   "id": "c910f74b-1fd6-430d-b6dc-034ffb4e7c99",
   "metadata": {},
   "outputs": [],
   "source": [
    "future_boruta['moisture']"
   ]
  },
  {
   "cell_type": "code",
   "execution_count": null,
   "id": "17bf0043-c310-4672-9463-9260dabca351",
   "metadata": {},
   "outputs": [],
   "source": [
    "predictions= pd.concat([future_boruta['moisture'],normal['y_pred'],boruta['boruta']], axis= 1)"
   ]
  },
  {
   "cell_type": "code",
   "execution_count": null,
   "id": "b70479f5-7a2e-49ed-b19d-d6647ba40537",
   "metadata": {},
   "outputs": [],
   "source": [
    "#importing plotly and cufflinks in offline mode\n",
    "import cufflinks as cf\n",
    "import plotly.offline\n",
    "cf.go_offline()\n",
    "cf.set_config_file(offline=False, world_readable=True)\n"
   ]
  },
  {
   "cell_type": "code",
   "execution_count": null,
   "id": "30f51e0a-53be-4387-8812-fee7015bc934",
   "metadata": {},
   "outputs": [],
   "source": [
    "predictions.iplot()"
   ]
  },
  {
   "cell_type": "code",
   "execution_count": null,
   "id": "0f76a0a3-35f8-4b19-ad3c-454755cf9572",
   "metadata": {},
   "outputs": [],
   "source": [
    "\n",
    "# create ap\n",
    "exp.create_api(final_best, 'soil_api')"
   ]
  },
  {
   "cell_type": "markdown",
   "id": "73b4b5cd",
   "metadata": {},
   "source": [
    "\n",
    "# create app\n",
    "exp.create_app(final_best)"
   ]
  },
  {
   "cell_type": "markdown",
   "id": "73b4b5cd",
   "metadata": {},
   "source": [
    "\n",
    "# create app\n",
    "exp.create_app(final_best)"
   ]
  },
  {
   "cell_type": "code",
   "execution_count": null,
   "metadata": {},
   "outputs": [],
   "source": [
    "final_boruta"
   ]
  },
  {
   "cell_type": "code",
   "execution_count": null,
   "id": "b104d194",
   "metadata": {},
   "outputs": [],
   "source": [
    "# run api\n",
    "!python app.py"
   ]
  },
  {
   "cell_type": "markdown",
   "id": "aa131eba",
   "metadata": {},
   "source": [
    "\n",
    "from ipywidgets import widgets\n",
    "exp.evaluate_model('lr_cds_dt')"
   ]
  },
  {
   "cell_type": "code",
   "execution_count": null,
   "id": "f66803e1",
   "metadata": {},
   "outputs": [],
   "source": [
    "help(plot_model)"
   ]
  },
  {
   "cell_type": "code",
   "execution_count": null,
   "id": "463df694",
   "metadata": {},
   "outputs": [],
   "source": []
  }
 ],
 "metadata": {
  "kernelspec": {
   "display_name": "sage",
   "language": "python",
   "name": "sage"
  },
  "language_info": {
   "codemirror_mode": {
    "name": "ipython",
    "version": 3
   },
   "file_extension": ".py",
   "mimetype": "text/x-python",
   "name": "python",
   "nbconvert_exporter": "python",
   "pygments_lexer": "ipython3",
   "version": "3.8.15"
  },
  "vscode": {
   "interpreter": {
    "hash": "49b9b7cc99ae6f9df28f46a013329ed44c1a15d36f25a5d431e29671a4247edf"
   }
  }
 },
 "nbformat": 4,
 "nbformat_minor": 5
}

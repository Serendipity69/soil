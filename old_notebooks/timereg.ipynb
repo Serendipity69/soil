{
 "cells": [
  {
   "cell_type": "code",
   "execution_count": 1,
   "metadata": {
    "colab": {
     "base_uri": "https://localhost:8080/"
    },
    "id": "euPP1K2ewvUM",
    "outputId": "e6903963-aa89-4b4a-8d6d-33bd419e95e8"
   },
   "outputs": [
    {
     "name": "stdout",
     "output_type": "stream",
     "text": [
      "\n",
      "System:\n",
      "    python: 3.9.7 (default, Sep 16 2021, 08:50:36)  [Clang 10.0.0 ]\n",
      "executable: /Users/sage/opt/anaconda3/bin/python\n",
      "   machine: macOS-10.16-x86_64-i386-64bit\n",
      "\n",
      "PyCaret required dependencies:\n",
      "                 pip: 22.3.1\n",
      "          setuptools: 58.0.4\n",
      "             pycaret: 3.0.0rc4\n",
      "             IPython: 7.29.0\n",
      "          ipywidgets: 7.6.5\n",
      "                tqdm: 4.62.3\n",
      "               numpy: 1.21.6\n",
      "              pandas: 1.4.4\n",
      "              jinja2: 3.1.2\n",
      "               scipy: 1.7.3\n",
      "              joblib: 1.2.0\n",
      "             sklearn: 1.0.2\n",
      "                pyod: 1.0.5\n",
      "            imblearn: 0.9.0\n",
      "   category_encoders: 2.5.1.post0\n",
      "            lightgbm: 3.3.2\n",
      "               numba: 0.55.2\n",
      "            requests: 2.28.1\n",
      "          matplotlib: 3.4.3\n",
      "          scikitplot: 0.3.7\n",
      "         yellowbrick: 1.4\n",
      "              plotly: 5.5.0\n",
      "             kaleido: 0.2.1\n",
      "         statsmodels: 0.13.2\n",
      "              sktime: 0.13.4\n",
      "               tbats: 1.1.1\n",
      "            pmdarima: 1.8.5\n",
      "              psutil: 5.9.2\n",
      "\n",
      "PyCaret optional dependencies:\n",
      "                shap: 0.41.0\n",
      "           interpret: Not installed\n",
      "                umap: Not installed\n",
      "    pandas_profiling: 3.4.0\n",
      "  explainerdashboard: Not installed\n",
      "             autoviz: Not installed\n",
      "           fairlearn: Not installed\n",
      "             xgboost: 1.7.1\n",
      "            catboost: 1.1\n",
      "              kmodes: Not installed\n",
      "             mlxtend: Not installed\n",
      "       statsforecast: 1.1.1\n",
      "        tune_sklearn: Not installed\n",
      "                 ray: Not installed\n",
      "            hyperopt: Not installed\n",
      "              optuna: Not installed\n",
      "               skopt: Not installed\n",
      "              mlflow: 1.30.0\n",
      "              gradio: Not installed\n",
      "             fastapi: Not installed\n",
      "             uvicorn: Not installed\n",
      "              m2cgen: Not installed\n",
      "           evidently: Not installed\n",
      "                nltk: 3.6.5\n",
      "            pyLDAvis: Not installed\n",
      "              gensim: Not installed\n",
      "               spacy: Not installed\n",
      "           wordcloud: Not installed\n",
      "            textblob: Not installed\n",
      "               fugue: Not installed\n",
      "           streamlit: Not installed\n",
      "             prophet: 1.1.1\n"
     ]
    }
   ],
   "source": [
    "#Installing the dependencies\n",
    "def what_is_installed():\n",
    "    import pycaret\n",
    "    from pycaret import show_versions\n",
    "    show_versions()\n",
    "\n",
    "try:\n",
    "    what_is_installed()\n",
    "except:\n",
    "    !pip install prophet\n",
    "    !pip install pycaret-ts-alpha\n",
    "    what_is_installed()"
   ]
  },
  {
   "cell_type": "code",
   "execution_count": 2,
   "metadata": {
    "id": "_F19a2b4Jd1-"
   },
   "outputs": [],
   "source": [
    "import matplotlib.pyplot as plt\n",
    "import numpy as np\n",
    "import pandas as pd\n",
    "import seaborn as sn\n",
    "import plotly.express as px\n",
    "from statsmodels.tsa.stattools import adfuller, kpss, grangercausalitytests\n",
    "from statsmodels.tsa.api import VAR\n",
    "from sklearn.model_selection import train_test_split\n",
    "from sklearn.preprocessing import StandardScaler\n",
    "from sklearn.decomposition import PCA\n",
    "from sklearn.pipeline import Pipeline\n",
    "from numpy import log"
   ]
  },
  {
   "cell_type": "code",
   "execution_count": 3,
   "metadata": {
    "id": "-CWAEzg-JkDt"
   },
   "outputs": [],
   "source": [
    "import os\n",
    "import sys\n",
    "import datetime as dt\n",
    "#import missingno as mno \n",
    "\n",
    "import warnings\n",
    "warnings.filterwarnings(\"ignore\")\n",
    "import logging\n",
    "logging.disable(logging.CRITICAL)"
   ]
  },
  {
   "cell_type": "code",
   "execution_count": 4,
   "metadata": {
    "id": "qdZyAnkRw4dB"
   },
   "outputs": [
    {
     "ename": "FileNotFoundError",
     "evalue": "[Errno 2] No such file or directory: 'Measurement May 2022.csv'",
     "output_type": "error",
     "traceback": [
      "\u001b[0;31m---------------------------------------------------------------------------\u001b[0m",
      "\u001b[0;31mFileNotFoundError\u001b[0m                         Traceback (most recent call last)",
      "\u001b[0;32m/var/folders/sg/8dmzq1nn0wl6qmndt2sf_m1r0000gn/T/ipykernel_1710/3934567208.py\u001b[0m in \u001b[0;36m<module>\u001b[0;34m\u001b[0m\n\u001b[1;32m      1\u001b[0m \u001b[0;31m# load dataset\u001b[0m\u001b[0;34m\u001b[0m\u001b[0;34m\u001b[0m\u001b[0m\n\u001b[1;32m      2\u001b[0m \u001b[0;32mimport\u001b[0m \u001b[0mpandas\u001b[0m \u001b[0;32mas\u001b[0m \u001b[0mpd\u001b[0m\u001b[0;34m\u001b[0m\u001b[0;34m\u001b[0m\u001b[0m\n\u001b[0;32m----> 3\u001b[0;31m \u001b[0mmay\u001b[0m \u001b[0;34m=\u001b[0m \u001b[0mpd\u001b[0m\u001b[0;34m.\u001b[0m\u001b[0mread_csv\u001b[0m\u001b[0;34m(\u001b[0m\u001b[0;34m\"Measurement May 2022.csv\"\u001b[0m\u001b[0;34m)\u001b[0m\u001b[0;34m\u001b[0m\u001b[0;34m\u001b[0m\u001b[0m\n\u001b[0m\u001b[1;32m      4\u001b[0m \u001b[0mjune\u001b[0m \u001b[0;34m=\u001b[0m \u001b[0mpd\u001b[0m\u001b[0;34m.\u001b[0m\u001b[0mread_csv\u001b[0m\u001b[0;34m(\u001b[0m\u001b[0;34m\"Measurement june 2022.csv\"\u001b[0m\u001b[0;34m)\u001b[0m\u001b[0;34m\u001b[0m\u001b[0;34m\u001b[0m\u001b[0m\n\u001b[1;32m      5\u001b[0m \u001b[0mjuly\u001b[0m \u001b[0;34m=\u001b[0m \u001b[0mpd\u001b[0m\u001b[0;34m.\u001b[0m\u001b[0mread_csv\u001b[0m\u001b[0;34m(\u001b[0m\u001b[0;34m\"Measurements July 2022.csv\"\u001b[0m\u001b[0;34m)\u001b[0m\u001b[0;34m\u001b[0m\u001b[0;34m\u001b[0m\u001b[0m\n",
      "\u001b[0;32m~/opt/anaconda3/lib/python3.9/site-packages/pandas/util/_decorators.py\u001b[0m in \u001b[0;36mwrapper\u001b[0;34m(*args, **kwargs)\u001b[0m\n\u001b[1;32m    309\u001b[0m                     \u001b[0mstacklevel\u001b[0m\u001b[0;34m=\u001b[0m\u001b[0mstacklevel\u001b[0m\u001b[0;34m,\u001b[0m\u001b[0;34m\u001b[0m\u001b[0;34m\u001b[0m\u001b[0m\n\u001b[1;32m    310\u001b[0m                 )\n\u001b[0;32m--> 311\u001b[0;31m             \u001b[0;32mreturn\u001b[0m \u001b[0mfunc\u001b[0m\u001b[0;34m(\u001b[0m\u001b[0;34m*\u001b[0m\u001b[0margs\u001b[0m\u001b[0;34m,\u001b[0m \u001b[0;34m**\u001b[0m\u001b[0mkwargs\u001b[0m\u001b[0;34m)\u001b[0m\u001b[0;34m\u001b[0m\u001b[0;34m\u001b[0m\u001b[0m\n\u001b[0m\u001b[1;32m    312\u001b[0m \u001b[0;34m\u001b[0m\u001b[0m\n\u001b[1;32m    313\u001b[0m         \u001b[0;32mreturn\u001b[0m \u001b[0mwrapper\u001b[0m\u001b[0;34m\u001b[0m\u001b[0;34m\u001b[0m\u001b[0m\n",
      "\u001b[0;32m~/opt/anaconda3/lib/python3.9/site-packages/pandas/io/parsers/readers.py\u001b[0m in \u001b[0;36mread_csv\u001b[0;34m(filepath_or_buffer, sep, delimiter, header, names, index_col, usecols, squeeze, prefix, mangle_dupe_cols, dtype, engine, converters, true_values, false_values, skipinitialspace, skiprows, skipfooter, nrows, na_values, keep_default_na, na_filter, verbose, skip_blank_lines, parse_dates, infer_datetime_format, keep_date_col, date_parser, dayfirst, cache_dates, iterator, chunksize, compression, thousands, decimal, lineterminator, quotechar, quoting, doublequote, escapechar, comment, encoding, encoding_errors, dialect, error_bad_lines, warn_bad_lines, on_bad_lines, delim_whitespace, low_memory, memory_map, float_precision, storage_options)\u001b[0m\n\u001b[1;32m    676\u001b[0m     \u001b[0mkwds\u001b[0m\u001b[0;34m.\u001b[0m\u001b[0mupdate\u001b[0m\u001b[0;34m(\u001b[0m\u001b[0mkwds_defaults\u001b[0m\u001b[0;34m)\u001b[0m\u001b[0;34m\u001b[0m\u001b[0;34m\u001b[0m\u001b[0m\n\u001b[1;32m    677\u001b[0m \u001b[0;34m\u001b[0m\u001b[0m\n\u001b[0;32m--> 678\u001b[0;31m     \u001b[0;32mreturn\u001b[0m \u001b[0m_read\u001b[0m\u001b[0;34m(\u001b[0m\u001b[0mfilepath_or_buffer\u001b[0m\u001b[0;34m,\u001b[0m \u001b[0mkwds\u001b[0m\u001b[0;34m)\u001b[0m\u001b[0;34m\u001b[0m\u001b[0;34m\u001b[0m\u001b[0m\n\u001b[0m\u001b[1;32m    679\u001b[0m \u001b[0;34m\u001b[0m\u001b[0m\n\u001b[1;32m    680\u001b[0m \u001b[0;34m\u001b[0m\u001b[0m\n",
      "\u001b[0;32m~/opt/anaconda3/lib/python3.9/site-packages/pandas/io/parsers/readers.py\u001b[0m in \u001b[0;36m_read\u001b[0;34m(filepath_or_buffer, kwds)\u001b[0m\n\u001b[1;32m    573\u001b[0m \u001b[0;34m\u001b[0m\u001b[0m\n\u001b[1;32m    574\u001b[0m     \u001b[0;31m# Create the parser.\u001b[0m\u001b[0;34m\u001b[0m\u001b[0;34m\u001b[0m\u001b[0m\n\u001b[0;32m--> 575\u001b[0;31m     \u001b[0mparser\u001b[0m \u001b[0;34m=\u001b[0m \u001b[0mTextFileReader\u001b[0m\u001b[0;34m(\u001b[0m\u001b[0mfilepath_or_buffer\u001b[0m\u001b[0;34m,\u001b[0m \u001b[0;34m**\u001b[0m\u001b[0mkwds\u001b[0m\u001b[0;34m)\u001b[0m\u001b[0;34m\u001b[0m\u001b[0;34m\u001b[0m\u001b[0m\n\u001b[0m\u001b[1;32m    576\u001b[0m \u001b[0;34m\u001b[0m\u001b[0m\n\u001b[1;32m    577\u001b[0m     \u001b[0;32mif\u001b[0m \u001b[0mchunksize\u001b[0m \u001b[0;32mor\u001b[0m \u001b[0miterator\u001b[0m\u001b[0;34m:\u001b[0m\u001b[0;34m\u001b[0m\u001b[0;34m\u001b[0m\u001b[0m\n",
      "\u001b[0;32m~/opt/anaconda3/lib/python3.9/site-packages/pandas/io/parsers/readers.py\u001b[0m in \u001b[0;36m__init__\u001b[0;34m(self, f, engine, **kwds)\u001b[0m\n\u001b[1;32m    930\u001b[0m \u001b[0;34m\u001b[0m\u001b[0m\n\u001b[1;32m    931\u001b[0m         \u001b[0mself\u001b[0m\u001b[0;34m.\u001b[0m\u001b[0mhandles\u001b[0m\u001b[0;34m:\u001b[0m \u001b[0mIOHandles\u001b[0m \u001b[0;34m|\u001b[0m \u001b[0;32mNone\u001b[0m \u001b[0;34m=\u001b[0m \u001b[0;32mNone\u001b[0m\u001b[0;34m\u001b[0m\u001b[0;34m\u001b[0m\u001b[0m\n\u001b[0;32m--> 932\u001b[0;31m         \u001b[0mself\u001b[0m\u001b[0;34m.\u001b[0m\u001b[0m_engine\u001b[0m \u001b[0;34m=\u001b[0m \u001b[0mself\u001b[0m\u001b[0;34m.\u001b[0m\u001b[0m_make_engine\u001b[0m\u001b[0;34m(\u001b[0m\u001b[0mf\u001b[0m\u001b[0;34m,\u001b[0m \u001b[0mself\u001b[0m\u001b[0;34m.\u001b[0m\u001b[0mengine\u001b[0m\u001b[0;34m)\u001b[0m\u001b[0;34m\u001b[0m\u001b[0;34m\u001b[0m\u001b[0m\n\u001b[0m\u001b[1;32m    933\u001b[0m \u001b[0;34m\u001b[0m\u001b[0m\n\u001b[1;32m    934\u001b[0m     \u001b[0;32mdef\u001b[0m \u001b[0mclose\u001b[0m\u001b[0;34m(\u001b[0m\u001b[0mself\u001b[0m\u001b[0;34m)\u001b[0m\u001b[0;34m:\u001b[0m\u001b[0;34m\u001b[0m\u001b[0;34m\u001b[0m\u001b[0m\n",
      "\u001b[0;32m~/opt/anaconda3/lib/python3.9/site-packages/pandas/io/parsers/readers.py\u001b[0m in \u001b[0;36m_make_engine\u001b[0;34m(self, f, engine)\u001b[0m\n\u001b[1;32m   1214\u001b[0m             \u001b[0;31m# \"Union[str, PathLike[str], ReadCsvBuffer[bytes], ReadCsvBuffer[str]]\"\u001b[0m\u001b[0;34m\u001b[0m\u001b[0;34m\u001b[0m\u001b[0m\n\u001b[1;32m   1215\u001b[0m             \u001b[0;31m# , \"str\", \"bool\", \"Any\", \"Any\", \"Any\", \"Any\", \"Any\"\u001b[0m\u001b[0;34m\u001b[0m\u001b[0;34m\u001b[0m\u001b[0m\n\u001b[0;32m-> 1216\u001b[0;31m             self.handles = get_handle(  # type: ignore[call-overload]\n\u001b[0m\u001b[1;32m   1217\u001b[0m                 \u001b[0mf\u001b[0m\u001b[0;34m,\u001b[0m\u001b[0;34m\u001b[0m\u001b[0;34m\u001b[0m\u001b[0m\n\u001b[1;32m   1218\u001b[0m                 \u001b[0mmode\u001b[0m\u001b[0;34m,\u001b[0m\u001b[0;34m\u001b[0m\u001b[0;34m\u001b[0m\u001b[0m\n",
      "\u001b[0;32m~/opt/anaconda3/lib/python3.9/site-packages/pandas/io/common.py\u001b[0m in \u001b[0;36mget_handle\u001b[0;34m(path_or_buf, mode, encoding, compression, memory_map, is_text, errors, storage_options)\u001b[0m\n\u001b[1;32m    784\u001b[0m         \u001b[0;32mif\u001b[0m \u001b[0mioargs\u001b[0m\u001b[0;34m.\u001b[0m\u001b[0mencoding\u001b[0m \u001b[0;32mand\u001b[0m \u001b[0;34m\"b\"\u001b[0m \u001b[0;32mnot\u001b[0m \u001b[0;32min\u001b[0m \u001b[0mioargs\u001b[0m\u001b[0;34m.\u001b[0m\u001b[0mmode\u001b[0m\u001b[0;34m:\u001b[0m\u001b[0;34m\u001b[0m\u001b[0;34m\u001b[0m\u001b[0m\n\u001b[1;32m    785\u001b[0m             \u001b[0;31m# Encoding\u001b[0m\u001b[0;34m\u001b[0m\u001b[0;34m\u001b[0m\u001b[0m\n\u001b[0;32m--> 786\u001b[0;31m             handle = open(\n\u001b[0m\u001b[1;32m    787\u001b[0m                 \u001b[0mhandle\u001b[0m\u001b[0;34m,\u001b[0m\u001b[0;34m\u001b[0m\u001b[0;34m\u001b[0m\u001b[0m\n\u001b[1;32m    788\u001b[0m                 \u001b[0mioargs\u001b[0m\u001b[0;34m.\u001b[0m\u001b[0mmode\u001b[0m\u001b[0;34m,\u001b[0m\u001b[0;34m\u001b[0m\u001b[0;34m\u001b[0m\u001b[0m\n",
      "\u001b[0;31mFileNotFoundError\u001b[0m: [Errno 2] No such file or directory: 'Measurement May 2022.csv'"
     ]
    }
   ],
   "source": [
    "# load dataset\n",
    "import pandas as pd\n",
    "may = pd.read_csv(\"Measurement May 2022.csv\")\n",
    "june = pd.read_csv(\"Measurement june 2022.csv\")\n",
    "july = pd.read_csv(\"Measurements July 2022.csv\")\n",
    "august = pd.read_csv(\"Measurement August 2022.csv\")"
   ]
  },
  {
   "cell_type": "code",
   "execution_count": null,
   "metadata": {
    "colab": {
     "base_uri": "https://localhost:8080/",
     "height": 473
    },
    "id": "_uh0YZA3KYdh",
    "outputId": "2ffb1ab0-2746-4c4d-dea2-b04d0c79f3e3"
   },
   "outputs": [],
   "source": [
    "#checking some rows of the May dataset\n",
    "may.head()"
   ]
  },
  {
   "cell_type": "code",
   "execution_count": null,
   "metadata": {
    "colab": {
     "base_uri": "https://localhost:8080/",
     "height": 473
    },
    "id": "cZoLEwx2KcSV",
    "outputId": "14d43498-7bf8-4174-d665-d9f8b4ae7028"
   },
   "outputs": [],
   "source": [
    "#concatenate\n",
    "df = pd.concat([may,june,july,august])\n",
    "df.head()"
   ]
  },
  {
   "cell_type": "code",
   "execution_count": null,
   "metadata": {
    "colab": {
     "base_uri": "https://localhost:8080/",
     "height": 386
    },
    "id": "tAI-rYaFK1L-",
    "outputId": "e2498969-7192-4662-d3f4-0c70ef123a23"
   },
   "outputs": [],
   "source": [
    "#Tail of dataframe\n",
    "df.tail()"
   ]
  },
  {
   "cell_type": "code",
   "execution_count": null,
   "metadata": {
    "id": "Dp-DfjeCK9rF"
   },
   "outputs": [],
   "source": [
    "#correcting the index\n",
    "df=df.reset_index(drop=True)"
   ]
  },
  {
   "cell_type": "code",
   "execution_count": null,
   "metadata": {
    "colab": {
     "base_uri": "https://localhost:8080/",
     "height": 386
    },
    "id": "l9lfNO8SLDtt",
    "outputId": "b6876e8c-d326-417f-8ac1-f3c806ff7060"
   },
   "outputs": [],
   "source": [
    "#checking the tail\n",
    "df.tail()"
   ]
  },
  {
   "cell_type": "code",
   "execution_count": null,
   "metadata": {
    "id": "OAmnm_cXLG2W"
   },
   "outputs": [],
   "source": [
    "#changing the Metres above MSL and TOW MH20 no-data values to null\n",
    "df[\"Metres above MSL\"] = df[\"Metres above MSL\"].replace([\"no-data\"],0)\n",
    "df[\"TOW _MH2O\"] = df[\"TOW _MH2O\"].replace([\"no-data\"],0)"
   ]
  },
  {
   "cell_type": "code",
   "execution_count": null,
   "metadata": {
    "colab": {
     "base_uri": "https://localhost:8080/",
     "height": 386
    },
    "id": "rxFoLW6dLRmf",
    "outputId": "b1cc2563-2752-4be3-947f-7105fa51e287"
   },
   "outputs": [],
   "source": [
    "#checking the data after replacing some columns with null values\n",
    "df.head()"
   ]
  },
  {
   "cell_type": "code",
   "execution_count": null,
   "metadata": {
    "colab": {
     "base_uri": "https://localhost:8080/"
    },
    "id": "RihHWEctMy4-",
    "outputId": "dce1d59f-b49a-4dca-dabc-3091ffc18147"
   },
   "outputs": [],
   "source": [
    "# concatenating the dates\n",
    "df['data_date'] = df['data_date'].astype(str)\n",
    "df['data_time'] = df['data_time'].astype(str)\n",
    "df['DateTime'] = df['data_date'] + ' ' + df['data_time']\n",
    "df.info()"
   ]
  },
  {
   "cell_type": "code",
   "execution_count": null,
   "metadata": {
    "colab": {
     "base_uri": "https://localhost:8080/",
     "height": 473
    },
    "id": "oP5EGJkPM3Ce",
    "outputId": "80d4a5da-7c2e-43bb-fd9e-6a74f453885a"
   },
   "outputs": [],
   "source": [
    "# changing to date\n",
    "df['data_date'] = pd.to_datetime(df['data_date'], format = '%d/%m/%Y')\n",
    "df.head()"
   ]
  },
  {
   "cell_type": "code",
   "execution_count": null,
   "metadata": {
    "colab": {
     "base_uri": "https://localhost:8080/",
     "height": 560
    },
    "id": "N0Cp5Q5HNHG4",
    "outputId": "b0f6a547-ed17-4a9a-b6da-60be8ec167fd"
   },
   "outputs": [],
   "source": [
    "#changing the datetime to the right format\n",
    "df['DateTime'] = pd.to_datetime(df['DateTime'], format = '%d/%m/%Y %H:%M:%S')\n",
    "df.head()"
   ]
  },
  {
   "cell_type": "code",
   "execution_count": null,
   "metadata": {
    "colab": {
     "base_uri": "https://localhost:8080/"
    },
    "id": "DXr4i4mXNODC",
    "outputId": "30a2eff4-5a75-42d2-c319-be16c9d5d112"
   },
   "outputs": [],
   "source": [
    "#checking the info\n",
    "df.info()"
   ]
  },
  {
   "cell_type": "code",
   "execution_count": null,
   "metadata": {
    "colab": {
     "base_uri": "https://localhost:8080/"
    },
    "id": "0XNj72CFQO8H",
    "outputId": "0aeba14d-1df3-4fe0-f5e5-cf089740fc2d"
   },
   "outputs": [],
   "source": [
    "#copy into level_1\n",
    "level_1 = df.copy()\n",
    "level_1.shape"
   ]
  },
  {
   "cell_type": "code",
   "execution_count": null,
   "metadata": {
    "colab": {
     "base_uri": "https://localhost:8080/",
     "height": 574
    },
    "id": "2v2UKw1zQjHf",
    "outputId": "c298a7a4-be05-4959-b761-66e55136bebd"
   },
   "outputs": [],
   "source": [
    "#Level 1 10-30, dropping the other columns and date\n",
    "level_1.drop(level_1.columns[[10,12,13,14,15,16,17,34,35,36]], axis =1, inplace = True)\n",
    "level_1"
   ]
  },
  {
   "cell_type": "code",
   "execution_count": null,
   "metadata": {
    "colab": {
     "base_uri": "https://localhost:8080/"
    },
    "id": "XXnw2cUeRozc",
    "outputId": "f27c26f4-430e-43f0-e519-70f791d64831"
   },
   "outputs": [],
   "source": [
    "#the shape of the level_1\n",
    "level_1.shape"
   ]
  },
  {
   "cell_type": "code",
   "execution_count": null,
   "metadata": {
    "id": "Vn_A7kubZfRX"
   },
   "outputs": [],
   "source": [
    "# Removing duplicates\n",
    "new = level_1.drop_duplicates()"
   ]
  },
  {
   "cell_type": "code",
   "execution_count": null,
   "metadata": {
    "colab": {
     "base_uri": "https://localhost:8080/"
    },
    "id": "oTuTTvjCZtI0",
    "outputId": "6b32dc62-3887-4c6b-948d-5353ea7e89e6"
   },
   "outputs": [],
   "source": [
    "# checking the shape\n",
    "new.shape"
   ]
  },
  {
   "cell_type": "code",
   "execution_count": null,
   "metadata": {
    "colab": {
     "base_uri": "https://localhost:8080/"
    },
    "id": "jGfEO7ghxe7b",
    "outputId": "1c91e653-b457-437f-f86e-2470918dedcb"
   },
   "outputs": [],
   "source": [
    "#checking the info\n",
    "new.info()"
   ]
  },
  {
   "cell_type": "code",
   "execution_count": null,
   "metadata": {
    "colab": {
     "base_uri": "https://localhost:8080/"
    },
    "id": "ufOru4ZBOZCK",
    "outputId": "61e15b24-1d29-482a-a00f-d14acaa42035"
   },
   "outputs": [],
   "source": [
    "#Installing Boruta\n",
    "!pip install Boruta"
   ]
  },
  {
   "cell_type": "code",
   "execution_count": null,
   "metadata": {
    "colab": {
     "base_uri": "https://localhost:8080/"
    },
    "id": "fp19hOTuNrUR",
    "outputId": "30f801b7-b1e6-4e4d-f21c-71b73f8e2626"
   },
   "outputs": [],
   "source": [
    "#Installing Boruta\n",
    "!pip install Boruta\n",
    "# Boruta for feature selection\n",
    "!pip install boruta_py\n",
    "from sklearn.ensemble import RandomForestRegressor\n",
    "from boruta import  BorutaPy\n",
    "from sklearn.metrics import accuracy_score "
   ]
  },
  {
   "cell_type": "code",
   "execution_count": null,
   "metadata": {
    "id": "zGSqLz4AXFq1"
   },
   "outputs": [],
   "source": [
    "X_new = new.drop(columns =[\"Magna_6 Segment 1_ (10-30cm) Soil Moisture_%\"])"
   ]
  },
  {
   "cell_type": "code",
   "execution_count": null,
   "metadata": {
    "colab": {
     "base_uri": "https://localhost:8080/"
    },
    "id": "xOQ4t8VTXnMe",
    "outputId": "d8cc2132-8b69-4a54-f4db-a04dbdd058d2"
   },
   "outputs": [],
   "source": [
    "X_new.shape"
   ]
  },
  {
   "cell_type": "code",
   "execution_count": null,
   "metadata": {
    "colab": {
     "base_uri": "https://localhost:8080/"
    },
    "id": "AwuMfdfsY06X",
    "outputId": "6c30cef8-c04f-471d-8d33-ca1f01b6f683"
   },
   "outputs": [],
   "source": [
    "X_new.info()"
   ]
  },
  {
   "cell_type": "code",
   "execution_count": null,
   "metadata": {
    "id": "J1mgSVs8Xwwb"
   },
   "outputs": [],
   "source": [
    "Y_new = new[\"Magna_6 Segment 1_ (10-30cm) Soil Moisture_%\"]"
   ]
  },
  {
   "cell_type": "code",
   "execution_count": null,
   "metadata": {
    "colab": {
     "base_uri": "https://localhost:8080/"
    },
    "id": "aIukkOgyX6yF",
    "outputId": "208674b5-f8df-4d16-b0bc-a7b9999a6773"
   },
   "outputs": [],
   "source": [
    "Y_new"
   ]
  },
  {
   "cell_type": "code",
   "execution_count": null,
   "metadata": {
    "colab": {
     "base_uri": "https://localhost:8080/"
    },
    "id": "aycxtF20Y_-f",
    "outputId": "fe0f0133-e135-4c2d-a8f6-ab2e86a0b5d9"
   },
   "outputs": [],
   "source": [
    "#Y variable\n",
    "Y_new.head()"
   ]
  },
  {
   "cell_type": "code",
   "execution_count": null,
   "metadata": {
    "id": "ODK0f4dUX7Iz"
   },
   "outputs": [],
   "source": [
    "#Splitting the dataset.\n",
    "X_train, X_test, y_train, y_test = train_test_split(X_new, Y_new, test_size= 0.2, random_state= 1)"
   ]
  },
  {
   "cell_type": "code",
   "execution_count": null,
   "metadata": {
    "id": "ki-qiYLnfgON"
   },
   "outputs": [],
   "source": [
    "#Initializing the random forest model\n",
    "model = RandomForestRegressor(n_estimators = 100, max_depth = 5, random_state = 42)"
   ]
  },
  {
   "cell_type": "code",
   "execution_count": null,
   "metadata": {
    "id": "hzs9VRa3g-b9"
   },
   "outputs": [],
   "source": [
    "# let's initialize Boruta\n",
    "feat_selector = BorutaPy(\n",
    "    verbose=2,\n",
    "    estimator=model,\n",
    "    n_estimators='auto',\n",
    "    max_iter=10  # number of iterations to perform\n",
    ")"
   ]
  },
  {
   "cell_type": "code",
   "execution_count": null,
   "metadata": {
    "colab": {
     "base_uri": "https://localhost:8080/"
    },
    "id": "wTWtQKKAhA_L",
    "outputId": "f7f20454-204f-43d2-bde6-3f161b714a9c"
   },
   "outputs": [],
   "source": [
    "#Training the boruta, X and Y mus be numpy arrays\n",
    "import numpy as np\n",
    "feat_selector.fit(np.array(X_new), np.array(Y_new))\n"
   ]
  },
  {
   "cell_type": "code",
   "execution_count": null,
   "metadata": {
    "colab": {
     "base_uri": "https://localhost:8080/"
    },
    "id": "PP-BlQothe_1",
    "outputId": "6f97f357-e12e-4612-cd1a-eada6d5834e4"
   },
   "outputs": [],
   "source": [
    "# print support and ranking for each feature\n",
    "print(\"\\n------Support and Ranking for each feature------\")\n",
    "for i in range(len(feat_selector.support_)):\n",
    "    if feat_selector.support_[i]:\n",
    "        print(\"Passes the test: \", X_new.columns[i],\n",
    "              \" - Ranking: \", feat_selector.ranking_[i])\n",
    "    else:\n",
    "        print(\"Doesn't pass the test: \",\n",
    "              X_new.columns[i], \" - Ranking: \", feat_selector.ranking_[i])"
   ]
  },
  {
   "cell_type": "code",
   "execution_count": null,
   "metadata": {
    "colab": {
     "base_uri": "https://localhost:8080/"
    },
    "id": "XrKQzids4-bD",
    "outputId": "7f40e6eb-6274-4c4f-cda3-86b357f90b04"
   },
   "outputs": [],
   "source": [
    "#checking the dataset to remove the unimportant features.\n",
    "new.info()"
   ]
  },
  {
   "cell_type": "code",
   "execution_count": null,
   "metadata": {
    "colab": {
     "base_uri": "https://localhost:8080/"
    },
    "id": "c18iEzXhlwKp",
    "outputId": "f658c92a-b87b-476e-b976-46d2ca07741b"
   },
   "outputs": [],
   "source": [
    "#Getting the  leve_One only\n",
    "level_One = new.copy()\n",
    "level_One.shape"
   ]
  },
  {
   "cell_type": "code",
   "execution_count": null,
   "metadata": {
    "colab": {
     "base_uri": "https://localhost:8080/",
     "height": 574
    },
    "id": "NLeQ7aTumD8U",
    "outputId": "4df662b9-a6e0-4b44-806e-f30b1c4e1e46"
   },
   "outputs": [],
   "source": [
    "#Level 1 10-30, dropping the other columns and date\n",
    "segment1 = level_One.iloc[:,[3,7,8,9,10,11,13,17,21,22,23,24,25,26]]\n",
    "segment1"
   ]
  },
  {
   "cell_type": "code",
   "execution_count": null,
   "metadata": {
    "colab": {
     "base_uri": "https://localhost:8080/"
    },
    "id": "PfZ_uQFRpIdD",
    "outputId": "b744031f-a8a0-4697-d821-1477756c1848"
   },
   "outputs": [],
   "source": [
    "#checking the important variables\n",
    "segment1.info()"
   ]
  },
  {
   "cell_type": "code",
   "execution_count": null,
   "metadata": {
    "id": "BHzDnwaNtgsF"
   },
   "outputs": [],
   "source": [
    "#Adding the date colum to segment1\n",
    "DateTime = df[\"DateTime\"]"
   ]
  },
  {
   "cell_type": "code",
   "execution_count": null,
   "metadata": {
    "id": "9OJVZwg4vAH1"
   },
   "outputs": [],
   "source": [
    "segment1[\"DateTime\"] = DateTime"
   ]
  },
  {
   "cell_type": "code",
   "execution_count": null,
   "metadata": {
    "colab": {
     "base_uri": "https://localhost:8080/"
    },
    "id": "hF8eF1nUvJkn",
    "outputId": "91a87917-fbd3-4a52-99d8-d31f55932de3"
   },
   "outputs": [],
   "source": [
    "segment1.info()"
   ]
  },
  {
   "cell_type": "code",
   "execution_count": null,
   "metadata": {
    "id": "7ogyuZavvYLt"
   },
   "outputs": [],
   "source": [
    "#changing column 12 and 13 to float\n",
    "segment1['Metres above MSL'] = pd.to_numeric(df['Metres above MSL'])\n",
    "segment1['TOW _MH2O'] = pd.to_numeric(df['TOW _MH2O'])"
   ]
  },
  {
   "cell_type": "code",
   "execution_count": null,
   "metadata": {
    "colab": {
     "base_uri": "https://localhost:8080/"
    },
    "id": "6VPtuuLQvuWP",
    "outputId": "2f83e3fe-6b10-4042-cdd2-f7549fd164fe"
   },
   "outputs": [],
   "source": [
    "segment1.info()"
   ]
  },
  {
   "cell_type": "code",
   "execution_count": null,
   "metadata": {
    "id": "qerjeu6cwhe0"
   },
   "outputs": [],
   "source": [
    "#setting an index\n",
    "segment1.set_index(\"DateTime\", inplace = True)"
   ]
  },
  {
   "cell_type": "code",
   "execution_count": null,
   "metadata": {
    "colab": {
     "base_uri": "https://localhost:8080/",
     "height": 1000
    },
    "id": "FmKa6GaMv27s",
    "outputId": "d7867a0e-2832-4ad1-d1e8-2d256b358e99"
   },
   "outputs": [],
   "source": [
    "#Ploting the dataset\n",
    "segment1.plot(subplots = True, figsize = (12,65));"
   ]
  },
  {
   "cell_type": "code",
   "execution_count": null,
   "metadata": {
    "id": "ckobmYN_teP7"
   },
   "outputs": [],
   "source": []
  },
  {
   "cell_type": "code",
   "execution_count": null,
   "metadata": {
    "colab": {
     "base_uri": "https://localhost:8080/",
     "height": 953
    },
    "id": "plmYOK120Mpb",
    "outputId": "9ef85567-d422-45eb-a0bd-1719b1c8d0d2"
   },
   "outputs": [],
   "source": [
    "# future dataset\n",
    "future_data = segment1.iloc[-7000:]\n",
    "future_data"
   ]
  },
  {
   "cell_type": "code",
   "execution_count": null,
   "metadata": {
    "colab": {
     "base_uri": "https://localhost:8080/",
     "height": 851
    },
    "id": "dUbu9_FGyX0n",
    "outputId": "2f45435a-676f-404a-df58-13818ff89741"
   },
   "outputs": [],
   "source": [
    "from pycaret.time_series import *\n",
    "\n",
    "# Change renderer appropriately based on where the notebook is being run ----\n",
    "# Refer to plotly for available renderers.\n",
    "global_plot_settings = {\"renderer\": \"colab\",\n",
    "                        \"hoverinfo\": \"text\"}\n",
    "# init environment\n",
    "from pycaret.regression import *\n",
    "exp = TSForecastingExperiment()\n",
    "target = 'Magna_6 Segment 1_ (10-30cm) Soil Moisture_%'\n",
    "data_for_modeling = segment1[segment1.index < '2022-08-21'].reset_index(drop = True)\n",
    "future_df = segment1[segment1.index >= '2022-08-21'].reset_index(drop = True)\n",
    "future_exog = future_df.drop(columns=target)\n",
    "\n",
    "exp.setup(data = data_for_modeling,\n",
    "          target= target,\n",
    "          seasonal_period=12,\n",
    "          fh=1000,\n",
    "          fig_kwargs=global_plot_settings,\n",
    "          session_id=123)\n"
   ]
  },
  {
   "cell_type": "code",
   "execution_count": null,
   "metadata": {
    "colab": {
     "base_uri": "https://localhost:8080/",
     "height": 542
    },
    "id": "UVZCM5NPzKHd",
    "outputId": "f918dee2-2f7a-4c52-ad5b-c78164960fe4"
   },
   "outputs": [],
   "source": [
    "# Additional plots provided by PyCaret to help understand what is being done.\n",
    "exp.plot_model(plot=\"train_test_split\")"
   ]
  },
  {
   "cell_type": "code",
   "execution_count": null,
   "metadata": {
    "colab": {
     "base_uri": "https://localhost:8080/",
     "height": 551,
     "referenced_widgets": [
      "bf58db8d146c460198c12214f2c12992",
      "86c8a274628f453e884215b5c630089f",
      "6ea8ce1fb7394a609975d9ce2fc06fb2"
     ]
    },
    "id": "8CCNbUHZzShn",
    "outputId": "474fbd89-3a31-4d28-baf7-b74526ee239d"
   },
   "outputs": [],
   "source": [
    "#Model training and selection\n",
    "print(\"Model training and selection\")\n",
    "best_model = exp.compare_models(sort = 'MAE')"
   ]
  },
  {
   "cell_type": "code",
   "execution_count": null,
   "metadata": {
    "colab": {
     "base_uri": "https://localhost:8080/",
     "height": 542
    },
    "id": "ySG2pL9JEQq6",
    "outputId": "a3682b2b-976f-4ea7-d5f4-73548991966d"
   },
   "outputs": [],
   "source": [
    "exp.plot_model(best_model,\n",
    "               plot = 'forecast')"
   ]
  },
  {
   "cell_type": "code",
   "execution_count": null,
   "metadata": {
    "colab": {
     "base_uri": "https://localhost:8080/",
     "height": 269,
     "referenced_widgets": [
      "175f45ccdb604bd08d800c10f7163f6e",
      "750be91e608f4101b87e775b4d4dc9f7",
      "28e120f92967468281764d46aeb9c570"
     ]
    },
    "id": "biEvhPPmF20j",
    "outputId": "88f1cc4f-c628-40f2-ebbf-c15d4005ef76"
   },
   "outputs": [],
   "source": [
    "tuned= exp.tune_model(best_model,fold=5)"
   ]
  },
  {
   "cell_type": "code",
   "execution_count": null,
   "metadata": {
    "colab": {
     "base_uri": "https://localhost:8080/"
    },
    "id": "7hyXnoZbGGp8",
    "outputId": "f1c137eb-d425-4a9a-9608-cc84bd4ac281"
   },
   "outputs": [],
   "source": [
    "# finalize model\n",
    "final_best = exp.finalize_model(tuned)\n",
    "print(final_best)"
   ]
  },
  {
   "cell_type": "code",
   "execution_count": null,
   "metadata": {
    "colab": {
     "base_uri": "https://localhost:8080/"
    },
    "id": "38JuzMs9GPEE",
    "outputId": "f97f40c9-1dcb-4814-bbf9-62f159c67c96"
   },
   "outputs": [],
   "source": [
    "# generate predictions\n",
    "preds= exp.predict_model(final_best,fh=1716,X=future_exog)\n",
    "print(preds)"
   ]
  },
  {
   "cell_type": "code",
   "execution_count": null,
   "metadata": {
    "id": "Cvh5oegrGp0V"
   },
   "outputs": [],
   "source": [
    "y_train= data_for_modeling['segment1(10-30cm)']\n",
    "#y_train=exp.get_config(\"y_train\")\n",
    "y_train\n",
    "print(y_train)"
   ]
  },
  {
   "cell_type": "code",
   "execution_count": null,
   "metadata": {
    "id": "btdCEw09-FVl"
   },
   "outputs": [],
   "source": [
    "#confusion matrix\n",
    "from sklearn.metrics import confusion_matrix\n",
    "confusion_matrix(y_train,preds)"
   ]
  }
 ],
 "metadata": {
  "colab": {
   "collapsed_sections": [],
   "provenance": []
  },
  "kernelspec": {
   "display_name": "Python 3 (ipykernel)",
   "language": "python",
   "name": "python3"
  },
  "language_info": {
   "codemirror_mode": {
    "name": "ipython",
    "version": 3
   },
   "file_extension": ".py",
   "mimetype": "text/x-python",
   "name": "python",
   "nbconvert_exporter": "python",
   "pygments_lexer": "ipython3",
   "version": "3.9.7"
  },
  "widgets": {
   "application/vnd.jupyter.widget-state+json": {
    "175f45ccdb604bd08d800c10f7163f6e": {
     "model_module": "@jupyter-widgets/controls",
     "model_module_version": "1.5.0",
     "model_name": "IntProgressModel",
     "state": {
      "_dom_classes": [],
      "_model_module": "@jupyter-widgets/controls",
      "_model_module_version": "1.5.0",
      "_model_name": "IntProgressModel",
      "_view_count": null,
      "_view_module": "@jupyter-widgets/controls",
      "_view_module_version": "1.5.0",
      "_view_name": "ProgressView",
      "bar_style": "",
      "description": "Processing: ",
      "description_tooltip": null,
      "layout": "IPY_MODEL_750be91e608f4101b87e775b4d4dc9f7",
      "max": 7,
      "min": 0,
      "orientation": "horizontal",
      "style": "IPY_MODEL_28e120f92967468281764d46aeb9c570",
      "value": 7
     }
    },
    "28e120f92967468281764d46aeb9c570": {
     "model_module": "@jupyter-widgets/controls",
     "model_module_version": "1.5.0",
     "model_name": "ProgressStyleModel",
     "state": {
      "_model_module": "@jupyter-widgets/controls",
      "_model_module_version": "1.5.0",
      "_model_name": "ProgressStyleModel",
      "_view_count": null,
      "_view_module": "@jupyter-widgets/base",
      "_view_module_version": "1.2.0",
      "_view_name": "StyleView",
      "bar_color": null,
      "description_width": ""
     }
    },
    "6ea8ce1fb7394a609975d9ce2fc06fb2": {
     "model_module": "@jupyter-widgets/controls",
     "model_module_version": "1.5.0",
     "model_name": "ProgressStyleModel",
     "state": {
      "_model_module": "@jupyter-widgets/controls",
      "_model_module_version": "1.5.0",
      "_model_name": "ProgressStyleModel",
      "_view_count": null,
      "_view_module": "@jupyter-widgets/base",
      "_view_module_version": "1.2.0",
      "_view_name": "StyleView",
      "bar_color": null,
      "description_width": ""
     }
    },
    "750be91e608f4101b87e775b4d4dc9f7": {
     "model_module": "@jupyter-widgets/base",
     "model_module_version": "1.2.0",
     "model_name": "LayoutModel",
     "state": {
      "_model_module": "@jupyter-widgets/base",
      "_model_module_version": "1.2.0",
      "_model_name": "LayoutModel",
      "_view_count": null,
      "_view_module": "@jupyter-widgets/base",
      "_view_module_version": "1.2.0",
      "_view_name": "LayoutView",
      "align_content": null,
      "align_items": null,
      "align_self": null,
      "border": null,
      "bottom": null,
      "display": null,
      "flex": null,
      "flex_flow": null,
      "grid_area": null,
      "grid_auto_columns": null,
      "grid_auto_flow": null,
      "grid_auto_rows": null,
      "grid_column": null,
      "grid_gap": null,
      "grid_row": null,
      "grid_template_areas": null,
      "grid_template_columns": null,
      "grid_template_rows": null,
      "height": null,
      "justify_content": null,
      "justify_items": null,
      "left": null,
      "margin": null,
      "max_height": null,
      "max_width": null,
      "min_height": null,
      "min_width": null,
      "object_fit": null,
      "object_position": null,
      "order": null,
      "overflow": null,
      "overflow_x": null,
      "overflow_y": null,
      "padding": null,
      "right": null,
      "top": null,
      "visibility": null,
      "width": null
     }
    },
    "86c8a274628f453e884215b5c630089f": {
     "model_module": "@jupyter-widgets/base",
     "model_module_version": "1.2.0",
     "model_name": "LayoutModel",
     "state": {
      "_model_module": "@jupyter-widgets/base",
      "_model_module_version": "1.2.0",
      "_model_name": "LayoutModel",
      "_view_count": null,
      "_view_module": "@jupyter-widgets/base",
      "_view_module_version": "1.2.0",
      "_view_name": "LayoutView",
      "align_content": null,
      "align_items": null,
      "align_self": null,
      "border": null,
      "bottom": null,
      "display": null,
      "flex": null,
      "flex_flow": null,
      "grid_area": null,
      "grid_auto_columns": null,
      "grid_auto_flow": null,
      "grid_auto_rows": null,
      "grid_column": null,
      "grid_gap": null,
      "grid_row": null,
      "grid_template_areas": null,
      "grid_template_columns": null,
      "grid_template_rows": null,
      "height": null,
      "justify_content": null,
      "justify_items": null,
      "left": null,
      "margin": null,
      "max_height": null,
      "max_width": null,
      "min_height": null,
      "min_width": null,
      "object_fit": null,
      "object_position": null,
      "order": null,
      "overflow": null,
      "overflow_x": null,
      "overflow_y": null,
      "padding": null,
      "right": null,
      "top": null,
      "visibility": null,
      "width": null
     }
    },
    "bf58db8d146c460198c12214f2c12992": {
     "model_module": "@jupyter-widgets/controls",
     "model_module_version": "1.5.0",
     "model_name": "IntProgressModel",
     "state": {
      "_dom_classes": [],
      "_model_module": "@jupyter-widgets/controls",
      "_model_module_version": "1.5.0",
      "_model_name": "IntProgressModel",
      "_view_count": null,
      "_view_module": "@jupyter-widgets/controls",
      "_view_module_version": "1.5.0",
      "_view_name": "ProgressView",
      "bar_style": "",
      "description": "Processing: ",
      "description_tooltip": null,
      "layout": "IPY_MODEL_86c8a274628f453e884215b5c630089f",
      "max": 104,
      "min": 0,
      "orientation": "horizontal",
      "style": "IPY_MODEL_6ea8ce1fb7394a609975d9ce2fc06fb2",
      "value": 99
     }
    }
   }
  }
 },
 "nbformat": 4,
 "nbformat_minor": 4
}
